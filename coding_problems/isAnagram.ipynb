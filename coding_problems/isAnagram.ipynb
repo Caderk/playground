{
 "cells": [
  {
   "cell_type": "code",
   "execution_count": 23,
   "metadata": {},
   "outputs": [
    {
     "name": "stdout",
     "output_type": "stream",
     "text": [
      "False\n",
      "True\n"
     ]
    }
   ],
   "source": [
    "def isAnagram(phrase1: str, phrase2: str):\n",
    "    phrase1_counts = {}\n",
    "    for character in phrase1:\n",
    "        phrase1_counts[character] = phrase1.count(character)\n",
    "\n",
    "    phrase2_counts = {}\n",
    "    for character in phrase2:\n",
    "        phrase2_counts[character] = phrase2.count(character)\n",
    "\n",
    "    if len(phrase1_counts) != len(phrase2_counts):\n",
    "        return False\n",
    "\n",
    "    for key in phrase1_counts.keys():\n",
    "        if phrase1_counts[key] != phrase2_counts[key]:\n",
    "            return False\n",
    "        \n",
    "    return True\n",
    "\n",
    "\n",
    "print(isAnagram(\"anagrama\", \"aamgrmaa\"))\n",
    "print(isAnagram(\"anagrama\", \"aangrmaa\"))"
   ]
  },
  {
   "cell_type": "markdown",
   "metadata": {},
   "source": [
    "### ChatGPT suggestions"
   ]
  },
  {
   "cell_type": "code",
   "execution_count": 24,
   "metadata": {},
   "outputs": [
    {
     "name": "stdout",
     "output_type": "stream",
     "text": [
      "False\n",
      "True\n"
     ]
    }
   ],
   "source": [
    "def isAnagram(phrase1: str, phrase2: str):\n",
    "    # Revised by ChatGPT\n",
    "    \n",
    "    phrase1_counts = {}\n",
    "    for character in phrase1:\n",
    "        phrase1_counts[character] = phrase1_counts.get(character, 0) + 1\n",
    "\n",
    "    phrase2_counts = {}\n",
    "    for character in phrase2:\n",
    "        phrase2_counts[character] = phrase2_counts.get(character, 0) + 1\n",
    "\n",
    "    return phrase1_counts == phrase2_counts\n",
    "\n",
    "# Testing the function\n",
    "print(isAnagram(\"anagrama\", \"aamgrmaa\"))  # Expected True\n",
    "print(isAnagram(\"anagrama\", \"aangrmaa\"))  # Expected False\n"
   ]
  }
 ],
 "metadata": {
  "kernelspec": {
   "display_name": ".venv",
   "language": "python",
   "name": "python3"
  },
  "language_info": {
   "codemirror_mode": {
    "name": "ipython",
    "version": 3
   },
   "file_extension": ".py",
   "mimetype": "text/x-python",
   "name": "python",
   "nbconvert_exporter": "python",
   "pygments_lexer": "ipython3",
   "version": "3.12.3"
  }
 },
 "nbformat": 4,
 "nbformat_minor": 2
}
