{
 "cells": [
  {
   "cell_type": "code",
   "execution_count": 27,
   "metadata": {},
   "outputs": [
    {
     "name": "stdout",
     "output_type": "stream",
     "text": [
      "False\n",
      "True\n"
     ]
    }
   ],
   "source": [
    "def isPalindrome(phrase):\n",
    "    reversed_phrase_list = []\n",
    "    for character in phrase:\n",
    "        reversed_phrase_list.insert(0, character)\n",
    "        reverser_phrase = \"\".join(reversed_phrase_list)\n",
    "    if reverser_phrase == phrase:\n",
    "        return True\n",
    "    else:\n",
    "        return False\n",
    "\n",
    "\n",
    "print(isPalindrome('qwerty'))\n",
    "print(isPalindrome('qwertytrewq'))"
   ]
  },
  {
   "cell_type": "code",
   "execution_count": 28,
   "metadata": {},
   "outputs": [
    {
     "name": "stdout",
     "output_type": "stream",
     "text": [
      "False\n",
      "True\n"
     ]
    }
   ],
   "source": [
    "def isPalindrome(phrase):\n",
    "    for i in range(int(len(phrase) / 2)):\n",
    "        if phrase[i] != phrase[(-i - 1)]:\n",
    "            return False\n",
    "    return True\n",
    "\n",
    "\n",
    "print(isPalindrome(\"qwerty\"))\n",
    "print(isPalindrome(\"qwertytrewq\"))"
   ]
  }
 ],
 "metadata": {
  "kernelspec": {
   "display_name": ".venv",
   "language": "python",
   "name": "python3"
  },
  "language_info": {
   "codemirror_mode": {
    "name": "ipython",
    "version": 3
   },
   "file_extension": ".py",
   "mimetype": "text/x-python",
   "name": "python",
   "nbconvert_exporter": "python",
   "pygments_lexer": "ipython3",
   "version": "3.12.3"
  }
 },
 "nbformat": 4,
 "nbformat_minor": 2
}
