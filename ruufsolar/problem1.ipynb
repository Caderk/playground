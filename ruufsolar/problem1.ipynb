{
 "cells": [
  {
   "cell_type": "markdown",
   "metadata": {},
   "source": [
    "### Question\n",
    "\n",
    "How many solar panels of X dimension can I fit on a roof with Y dimensions?\n"
   ]
  },
  {
   "cell_type": "markdown",
   "metadata": {},
   "source": [
    "El codigo funciona realizando una simulacion de un techo recorriendo todas sus celdas. En cada celda intenta tres opciones, colocar el panel de manera normal, rotada, o no colocarlo.\n",
    "\n",
    "Utilizando recursion, explora cada uno de los posibles escenarios que pueden ocurrir a partir de ese puntos."
   ]
  },
  {
   "cell_type": "code",
   "execution_count": 6,
   "metadata": {},
   "outputs": [
    {
     "name": "stdout",
     "output_type": "stream",
     "text": [
      "Maximum panels: 7\n"
     ]
    }
   ],
   "source": [
    "def try_place_panel(roof_grid, start_row, start_col, panel_height, panel_width):\n",
    "    # Check boundaries\n",
    "    if start_row + panel_height > len(roof_grid) or start_col + panel_width > len(\n",
    "        roof_grid[0]\n",
    "    ):\n",
    "        return False\n",
    "\n",
    "    # Check if the area is free\n",
    "    for row in range(panel_height):\n",
    "        for col in range(panel_width):\n",
    "            if roof_grid[start_row + row][start_col + col] == 1:\n",
    "                return False\n",
    "\n",
    "    # Place the panel\n",
    "    for row in range(panel_height):\n",
    "        for col in range(panel_width):\n",
    "            roof_grid[start_row + row][start_col + col] = 1\n",
    "\n",
    "    return True\n",
    "\n",
    "\n",
    "def remove_panel(roof_grid, start_row, start_col, panel_height, panel_width):\n",
    "    for row in range(panel_height):\n",
    "        for col in range(panel_width):\n",
    "            roof_grid[start_row + row][start_col + col] = 0\n",
    "\n",
    "\n",
    "def max_panels_recursive(roof_grid, panel_height, panel_width, row=0, col=0):\n",
    "    # If we passed the last row, no more placements are possible\n",
    "    if row >= len(roof_grid):\n",
    "        return 0\n",
    "\n",
    "    # If we passed the last column, go to the next row\n",
    "    if col >= len(roof_grid[row]):\n",
    "        return max_panels_recursive(roof_grid, panel_height, panel_width, row + 1, 0)\n",
    "\n",
    "    # If current cell is already occupied, move on\n",
    "    if roof_grid[row][col] == 1:\n",
    "        return max_panels_recursive(roof_grid, panel_height, panel_width, row, col + 1)\n",
    "\n",
    "    # Consider two orientations: normal and rotated\n",
    "    orientations = [(panel_height, panel_width), (panel_width, panel_height)]\n",
    "\n",
    "    max_placed = 0\n",
    "\n",
    "    # Try placing a panel in each orientation\n",
    "    for height, width in orientations:\n",
    "        if try_place_panel(roof_grid, row, col, height, width):\n",
    "            # If placed successfully, count this panel plus whatever comes next\n",
    "            placed = 1 + max_panels_recursive(\n",
    "                roof_grid, panel_height, panel_width, row, col + 1\n",
    "            )\n",
    "            if placed > max_placed:\n",
    "                max_placed = placed\n",
    "            # Backtrack (remove the panel)\n",
    "            remove_panel(roof_grid, row, col, height, width)\n",
    "\n",
    "    # Also consider not placing a panel at all\n",
    "    no_place = max_panels_recursive(roof_grid, panel_height, panel_width, row, col + 1)\n",
    "    if no_place > max_placed:\n",
    "        max_placed = no_place\n",
    "\n",
    "    return max_placed\n",
    "\n",
    "\n",
    "def max_panels(roof_dimension, panel_dimension):\n",
    "    # Unpack dimensions\n",
    "    roof_height, roof_width = roof_dimension\n",
    "    panel_height, panel_width = panel_dimension\n",
    "\n",
    "    # Initialize the roof grid\n",
    "    roof_grid = [[0 for _ in range(roof_width)] for _ in range(roof_height)]\n",
    "\n",
    "    # Start the recursion from the top-left cell\n",
    "    return max_panels_recursive(roof_grid, panel_height, panel_width)\n",
    "\n",
    "\n",
    "# Example usage\n",
    "roof_dimension = (3, 5)  # (height, width)\n",
    "panel_dimension = (1, 2)  # (height, width)\n",
    "result = max_panels(roof_dimension, panel_dimension)\n",
    "print(\"Maximum panels:\", result)"
   ]
  },
  {
   "cell_type": "markdown",
   "metadata": {},
   "source": [
    "### Observations\n",
    "\n",
    "In the case of a rectangular roof, its always better to start placing panels at a corner\n",
    "\n",
    "If we abstract this problem to a one dimensional scenario, we cant have the length of the panels be longer than the roof. But in two dimensions, we have rotation to manipulate the panel length in one dimension at the expense of the other dimension.\n"
   ]
  },
  {
   "cell_type": "code",
   "execution_count": null,
   "metadata": {},
   "outputs": [],
   "source": []
  }
 ],
 "metadata": {
  "kernelspec": {
   "display_name": ".venv",
   "language": "python",
   "name": "python3"
  },
  "language_info": {
   "codemirror_mode": {
    "name": "ipython",
    "version": 3
   },
   "file_extension": ".py",
   "mimetype": "text/x-python",
   "name": "python",
   "nbconvert_exporter": "python",
   "pygments_lexer": "ipython3",
   "version": "3.12.3"
  }
 },
 "nbformat": 4,
 "nbformat_minor": 2
}
