{
 "cells": [
  {
   "cell_type": "code",
   "execution_count": 9,
   "metadata": {},
   "outputs": [],
   "source": [
    "from typing import List"
   ]
  },
  {
   "cell_type": "code",
   "execution_count": 10,
   "metadata": {},
   "outputs": [],
   "source": [
    "class Solution:\n",
    "    def isAnagram(self, s: str, t: str) -> bool:\n",
    "        if len(s) != len(t):\n",
    "            return False\n",
    "\n",
    "        counts = [0 for i in range(26)]\n",
    "\n",
    "        for index in range(len(s)):\n",
    "            counts[ord(s[index]) - ord(\"a\")] += 1\n",
    "            counts[ord(t[index]) - ord(\"a\")] -= 1\n",
    "\n",
    "        for count in counts:\n",
    "            if count != 0:\n",
    "                return False\n",
    "\n",
    "        return True\n",
    "\n",
    "    def groupAnagrams(self, strs: List[str]) -> List[List[str]]:\n",
    "        final_list = []\n",
    "        added = []\n",
    "        for index, string1 in enumerate(strs):\n",
    "            if string1 not in added:\n",
    "                working_list = [string1]\n",
    "                added.append(string1)\n",
    "                for string2 in strs[(index + 1) :]:\n",
    "                    if self.isAnagram(string1, string2):\n",
    "                        working_list.append(string2)\n",
    "                        added.append(string2)\n",
    "                final_list.append(working_list)\n",
    "\n",
    "        return final_list"
   ]
  },
  {
   "cell_type": "code",
   "execution_count": 11,
   "metadata": {},
   "outputs": [
    {
     "data": {
      "text/plain": [
       "[['act', 'cat'], ['pots', 'tops', 'stop'], ['hat']]"
      ]
     },
     "execution_count": 11,
     "metadata": {},
     "output_type": "execute_result"
    }
   ],
   "source": [
    "Solution().groupAnagrams([\"act\", \"pots\", \"tops\", \"cat\", \"stop\", \"hat\"])"
   ]
  },
  {
   "cell_type": "markdown",
   "metadata": {},
   "source": [
    "Optimal solution"
   ]
  },
  {
   "cell_type": "code",
   "execution_count": 12,
   "metadata": {},
   "outputs": [],
   "source": [
    "from collections import defaultdict"
   ]
  },
  {
   "cell_type": "code",
   "execution_count": 13,
   "metadata": {},
   "outputs": [],
   "source": [
    "class Solution:\n",
    "    def groupAnagrams(self, strs: List[str]) -> List[List[str]]:\n",
    "        res = defaultdict(list)\n",
    "        for string in strs:\n",
    "            count = [0] * 26\n",
    "            for char in string:\n",
    "                count[ord(char) - ord(\"a\")] += 1\n",
    "            res[tuple(count)].append(\n",
    "                string\n",
    "            )  # The count of characters is the key to a list of words that match that count! GENIUS\n",
    "        return list(res.values())"
   ]
  },
  {
   "cell_type": "code",
   "execution_count": null,
   "metadata": {},
   "outputs": [],
   "source": [
    "Solution().groupAnagrams([\"act\", \"pots\", \"tops\", \"cat\", \"stop\", \"hat\"])"
   ]
  }
 ],
 "metadata": {
  "kernelspec": {
   "display_name": ".venv",
   "language": "python",
   "name": "python3"
  },
  "language_info": {
   "codemirror_mode": {
    "name": "ipython",
    "version": 3
   },
   "file_extension": ".py",
   "mimetype": "text/x-python",
   "name": "python",
   "nbconvert_exporter": "python",
   "pygments_lexer": "ipython3",
   "version": "3.12.3"
  }
 },
 "nbformat": 4,
 "nbformat_minor": 2
}
