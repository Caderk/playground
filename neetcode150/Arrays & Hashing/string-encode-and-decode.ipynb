{
 "cells": [
  {
   "cell_type": "code",
   "execution_count": 23,
   "metadata": {},
   "outputs": [],
   "source": [
    "from typing import List"
   ]
  },
  {
   "cell_type": "code",
   "execution_count": 24,
   "metadata": {},
   "outputs": [
    {
     "name": "stdout",
     "output_type": "stream",
     "text": [
      "neet|code|caba||||o|love|you\n",
      "['neet', 'code', 'caba||o', 'love', 'you']\n",
      "\n",
      "[]\n",
      "\n",
      "[]\n"
     ]
    }
   ],
   "source": [
    "class Solution:\n",
    "\n",
    "    def encode(self, strs: List[str]) -> str:\n",
    "        encoded_string = \"\"\n",
    "        first = True\n",
    "        for string in strs:\n",
    "\n",
    "            if first:\n",
    "                first = False\n",
    "            else:\n",
    "                encoded_string += \"|\"\n",
    "\n",
    "            for char in string:\n",
    "                if char == \"|\":\n",
    "                    encoded_string += \"|\"\n",
    "                encoded_string += char\n",
    "        return encoded_string\n",
    "\n",
    "    def decode(self, s: str) -> List[str]:\n",
    "        decoded_strings = []\n",
    "        escape_mode = False\n",
    "\n",
    "        string = \"\"\n",
    "        \n",
    "        for index, char in enumerate(s):\n",
    "            if escape_mode:\n",
    "                escape_mode = False\n",
    "\n",
    "                if char == \"|\":\n",
    "                    string += \"|\"\n",
    "                else:\n",
    "                    decoded_strings.append(string)\n",
    "                    string = char\n",
    "\n",
    "            elif char == \"|\":\n",
    "                escape_mode = True\n",
    "            else:\n",
    "                string += char\n",
    "\n",
    "            # If we are over, then append the last string\n",
    "            if index == len(s)-1:\n",
    "                decoded_strings.append(string)\n",
    "\n",
    "        return decoded_strings\n",
    "\n",
    "\n",
    "sol = Solution()\n",
    "encoded = sol.encode([\"neet\", \"code\", \"caba||o\", \"love\", \"you\"])\n",
    "print(encoded)\n",
    "print(sol.decode(encoded))\n",
    "\n",
    "encoded = sol.encode([\"\"])\n",
    "print(encoded)\n",
    "print(sol.decode(encoded))\n",
    "\n",
    "encoded = sol.encode([])\n",
    "print(encoded)\n",
    "print(sol.decode(encoded))"
   ]
  }
 ],
 "metadata": {
  "kernelspec": {
   "display_name": ".venv",
   "language": "python",
   "name": "python3"
  },
  "language_info": {
   "codemirror_mode": {
    "name": "ipython",
    "version": 3
   },
   "file_extension": ".py",
   "mimetype": "text/x-python",
   "name": "python",
   "nbconvert_exporter": "python",
   "pygments_lexer": "ipython3",
   "version": "3.12.3"
  }
 },
 "nbformat": 4,
 "nbformat_minor": 2
}
