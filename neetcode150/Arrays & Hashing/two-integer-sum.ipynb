{
 "cells": [
  {
   "cell_type": "code",
   "execution_count": 138,
   "metadata": {},
   "outputs": [],
   "source": [
    "import sys\n",
    "from typing import List"
   ]
  },
  {
   "cell_type": "code",
   "execution_count": 139,
   "metadata": {},
   "outputs": [],
   "source": [
    "class Solution:\n",
    "    def twoSum(self, nums: List[int], target: int) -> List[int]:\n",
    "        for index, num in enumerate(nums):\n",
    "            if target - num in nums[index + 1 :]:\n",
    "                return [index, nums.index(target - num, index + 1)]"
   ]
  },
  {
   "cell_type": "code",
   "execution_count": 140,
   "metadata": {},
   "outputs": [
    {
     "name": "stdout",
     "output_type": "stream",
     "text": [
      "Result: [0, 1]\n",
      "Number of line steps executed: 136\n"
     ]
    }
   ],
   "source": [
    "step_count = 0\n",
    "\n",
    "def tracefunc(frame, event, arg):\n",
    "    # This trace function will be called for various events\n",
    "    # We check for 'line' events to count them\n",
    "    if event == \"line\":\n",
    "        global step_count\n",
    "        step_count += 1\n",
    "    return tracefunc\n",
    "\n",
    "# Set the trace function\n",
    "sys.settrace(tracefunc)\n",
    "result = Solution().twoSum(nums=[3,4,5,6], target=7)\n",
    "# Disable the tracer\n",
    "sys.settrace(None)\n",
    "\n",
    "print(\"Result:\", result)\n",
    "print(\"Number of line steps executed:\", step_count)"
   ]
  },
  {
   "cell_type": "markdown",
   "metadata": {},
   "source": [
    "Recommended solution"
   ]
  },
  {
   "cell_type": "code",
   "execution_count": 141,
   "metadata": {},
   "outputs": [],
   "source": [
    "class Solution:\n",
    "    def twoSum(self, nums: List[int], target: int) -> List[int]:\n",
    "        prevMap = {}  # val -> index, \n",
    "\n",
    "        for i, n in enumerate(nums):\n",
    "            diff = target - n\n",
    "            if diff in prevMap:\n",
    "                return [prevMap[diff], i]\n",
    "            prevMap[n] = i"
   ]
  },
  {
   "cell_type": "code",
   "execution_count": 142,
   "metadata": {},
   "outputs": [
    {
     "name": "stdout",
     "output_type": "stream",
     "text": [
      "Result: [0, 1]\n",
      "Number of line steps executed: 142\n"
     ]
    }
   ],
   "source": [
    "step_count = 0\n",
    "\n",
    "def tracefunc(frame, event, arg):\n",
    "    # This trace function will be called for various events\n",
    "    # We check for 'line' events to count them\n",
    "    if event == \"line\":\n",
    "        global step_count\n",
    "        step_count += 1\n",
    "    return tracefunc\n",
    "\n",
    "# Set the trace function\n",
    "sys.settrace(tracefunc)\n",
    "result = Solution().twoSum(nums=[3,4,5,6], target=7)\n",
    "# Disable the tracer\n",
    "sys.settrace(None)\n",
    "\n",
    "print(\"Result:\", result)\n",
    "print(\"Number of line steps executed:\", step_count)"
   ]
  },
  {
   "cell_type": "code",
   "execution_count": 13,
   "metadata": {},
   "outputs": [
    {
     "data": {
      "text/plain": [
       "(80, 80)"
      ]
     },
     "execution_count": 13,
     "metadata": {},
     "output_type": "execute_result"
    }
   ],
   "source": [
    "\n",
    "def foo(arreglo, target):\n",
    "  for index, element in enumerate(arreglo):\n",
    "    if target + element in arreglo[:index] + arreglo[index+1:]:\n",
    "      return (element, target + element)\n",
    "\n",
    "\n",
    "A = [5, 10, 3, 80, 50, 80]\n",
    "B = 0\n",
    "\n",
    "foo(A,B)"
   ]
  }
 ],
 "metadata": {
  "kernelspec": {
   "display_name": ".venv",
   "language": "python",
   "name": "python3"
  },
  "language_info": {
   "codemirror_mode": {
    "name": "ipython",
    "version": 3
   },
   "file_extension": ".py",
   "mimetype": "text/x-python",
   "name": "python",
   "nbconvert_exporter": "python",
   "pygments_lexer": "ipython3",
   "version": "3.12.3"
  }
 },
 "nbformat": 4,
 "nbformat_minor": 2
}
