{
 "cells": [
  {
   "cell_type": "code",
   "execution_count": 13,
   "metadata": {},
   "outputs": [],
   "source": [
    "class Solution:\n",
    "    def isAnagram(self, s: str, t: str) -> bool:\n",
    "        s_counts = {}\n",
    "        for character in s:\n",
    "            s_counts[character] = s_counts.get(character, 0) + 1\n",
    "\n",
    "        t_counts = {}\n",
    "        for character in t:\n",
    "            t_counts[character] = t_counts.get(character, 0) + 1\n",
    "\n",
    "        return s_counts == t_counts"
   ]
  },
  {
   "cell_type": "code",
   "execution_count": 14,
   "metadata": {},
   "outputs": [
    {
     "name": "stdout",
     "output_type": "stream",
     "text": [
      "False\n",
      "True\n"
     ]
    }
   ],
   "source": [
    "print(Solution().isAnagram(\"anagrama\", \"aamgrmaa\"))\n",
    "print(Solution().isAnagram(\"anagrama\", \"aangrmaa\"))"
   ]
  },
  {
   "cell_type": "markdown",
   "metadata": {},
   "source": [
    "Optimal Solution"
   ]
  },
  {
   "cell_type": "code",
   "execution_count": null,
   "metadata": {},
   "outputs": [],
   "source": [
    "class Solution:\n",
    "    def isAnagram(self, s: str, t: str) -> bool:\n",
    "        # If lengths are different, they can't be anagrams.\n",
    "        if len(s) != len(t):\n",
    "            return False\n",
    "\n",
    "        # Since s and t consist only of lowercase English letters we can use a list instead of a dictionary.\n",
    "        count = [0] * 26\n",
    "        for i in range(len(s)):\n",
    "            # ord(char) returns the unicode code for char. We also know characters 'a' to 'z' are consecutive.\n",
    "            # We add to the count if its present in s, then substract if it's present in t.\n",
    "            count[ord(s[i]) - ord(\"a\")] += 1\n",
    "            count[ord(t[i]) - ord(\"a\")] -= 1\n",
    "\n",
    "        # Previous steps should ensure all values end up as 0 in the count if the words are anagrams.\n",
    "        for val in count:\n",
    "            if val != 0:\n",
    "                return False\n",
    "        return True"
   ]
  },
  {
   "cell_type": "code",
   "execution_count": 16,
   "metadata": {},
   "outputs": [
    {
     "name": "stdout",
     "output_type": "stream",
     "text": [
      "False\n",
      "True\n"
     ]
    }
   ],
   "source": [
    "print(Solution().isAnagram(\"anagrama\", \"aamgrmaa\"))\n",
    "print(Solution().isAnagram(\"anagrama\", \"aangrmaa\"))"
   ]
  }
 ],
 "metadata": {
  "kernelspec": {
   "display_name": ".venv",
   "language": "python",
   "name": "python3"
  },
  "language_info": {
   "codemirror_mode": {
    "name": "ipython",
    "version": 3
   },
   "file_extension": ".py",
   "mimetype": "text/x-python",
   "name": "python",
   "nbconvert_exporter": "python",
   "pygments_lexer": "ipython3",
   "version": "3.12.3"
  }
 },
 "nbformat": 4,
 "nbformat_minor": 2
}
