{
 "cells": [
  {
   "cell_type": "code",
   "execution_count": 57,
   "metadata": {},
   "outputs": [],
   "source": [
    "from typing import List\n",
    "from collections import defaultdict"
   ]
  },
  {
   "cell_type": "code",
   "execution_count": 58,
   "metadata": {},
   "outputs": [],
   "source": [
    "class Solution:\n",
    "    def topKFrequent(self, nums: List[int], k: int) -> List[int]:\n",
    "        num_freq = defaultdict(lambda: 0)\n",
    "        for num in nums:\n",
    "            num_freq[num] += 1\n",
    "\n",
    "        top_k = []\n",
    "        for i in range(k):\n",
    "            most_freq = max(num_freq, key=lambda key: num_freq[key])\n",
    "            top_k.append(most_freq)\n",
    "            num_freq.pop(most_freq)\n",
    "\n",
    "        return top_k"
   ]
  },
  {
   "cell_type": "code",
   "execution_count": 59,
   "metadata": {},
   "outputs": [
    {
     "name": "stdout",
     "output_type": "stream",
     "text": [
      "All manual checks passed!\n"
     ]
    }
   ],
   "source": [
    "sol = Solution()\n",
    "assert sol.topKFrequent([1, 1, 1, 2, 2, 3], 2) == [1, 2]\n",
    "assert sol.topKFrequent([1], 1) == [1]\n",
    "print(\"All manual checks passed!\")"
   ]
  }
 ],
 "metadata": {
  "kernelspec": {
   "display_name": ".venv",
   "language": "python",
   "name": "python3"
  },
  "language_info": {
   "codemirror_mode": {
    "name": "ipython",
    "version": 3
   },
   "file_extension": ".py",
   "mimetype": "text/x-python",
   "name": "python",
   "nbconvert_exporter": "python",
   "pygments_lexer": "ipython3",
   "version": "3.12.3"
  }
 },
 "nbformat": 4,
 "nbformat_minor": 2
}
