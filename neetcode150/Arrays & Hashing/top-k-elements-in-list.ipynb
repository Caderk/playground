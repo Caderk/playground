{
 "cells": [
  {
   "cell_type": "code",
   "execution_count": 31,
   "metadata": {},
   "outputs": [],
   "source": [
    "from typing import List\n",
    "from collections import defaultdict"
   ]
  },
  {
   "cell_type": "code",
   "execution_count": 32,
   "metadata": {},
   "outputs": [],
   "source": [
    "class Solution:\n",
    "    def topKFrequent(self, nums: List[int], k: int) -> List[int]:\n",
    "        num_freq = defaultdict(lambda: 0)\n",
    "        for num in nums:\n",
    "            num_freq[num] += 1\n",
    "\n",
    "        top_k = []\n",
    "        for i in range(k):\n",
    "            most_freq = max(num_freq, key=lambda key: num_freq[key])\n",
    "            top_k.append(most_freq)\n",
    "            num_freq.pop(most_freq)\n",
    "\n",
    "        return top_k"
   ]
  },
  {
   "cell_type": "code",
   "execution_count": 33,
   "metadata": {},
   "outputs": [
    {
     "name": "stdout",
     "output_type": "stream",
     "text": [
      "\u001b[32m.\u001b[0m\u001b[32m.\u001b[0m\u001b[32m.\u001b[0m\u001b[32m                                                                                          [100%]\u001b[0m\n",
      "\u001b[32m\u001b[32m\u001b[1m3 passed\u001b[0m\u001b[32m in 0.01s\u001b[0m\u001b[0m\n"
     ]
    },
    {
     "data": {
      "text/plain": [
       "<ExitCode.OK: 0>"
      ]
     },
     "execution_count": 33,
     "metadata": {},
     "output_type": "execute_result"
    }
   ],
   "source": [
    "import ipytest\n",
    "\n",
    "ipytest.autoconfig()\n",
    "\n",
    "\n",
    "class TestSolution:\n",
    "    def test_topKFrequent_basic_case(self):\n",
    "        solution = Solution()\n",
    "        result = solution.topKFrequent(nums=[1, 1, 1, 2, 2, 3], k=2)\n",
    "        expected = [1, 2]\n",
    "        assert set(result) == set(expected)\n",
    "\n",
    "    def test_topKFrequent_single_element(self):\n",
    "        solution = Solution()\n",
    "        result = solution.topKFrequent(nums=[1], k=1)\n",
    "        assert result == [1]\n",
    "\n",
    "    def test_topKFrequent_equal_frequency(self):\n",
    "        solution = Solution()\n",
    "        result = solution.topKFrequent(nums=[1, 2, 3], k=2)\n",
    "        assert len(result) == 2\n",
    "        assert all(r in [1, 2, 3] for r in result)\n",
    "\n",
    "\n",
    "ipytest.run()"
   ]
  }
 ],
 "metadata": {
  "kernelspec": {
   "display_name": ".venv",
   "language": "python",
   "name": "python3"
  },
  "language_info": {
   "codemirror_mode": {
    "name": "ipython",
    "version": 3
   },
   "file_extension": ".py",
   "mimetype": "text/x-python",
   "name": "python",
   "nbconvert_exporter": "python",
   "pygments_lexer": "ipython3",
   "version": "3.12.3"
  }
 },
 "nbformat": 4,
 "nbformat_minor": 2
}
